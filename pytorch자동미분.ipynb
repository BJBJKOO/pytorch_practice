{
  "nbformat": 4,
  "nbformat_minor": 0,
  "metadata": {
    "colab": {
      "name": "pytorch자동미분.ipynb",
      "provenance": []
    },
    "kernelspec": {
      "name": "python3",
      "display_name": "Python 3"
    },
    "language_info": {
      "name": "python"
    }
  },
  "cells": [
    {
      "cell_type": "code",
      "metadata": {
        "id": "iSngXHm8dOak"
      },
      "source": [
        "import torch"
      ],
      "execution_count": 1,
      "outputs": []
    },
    {
      "cell_type": "code",
      "metadata": {
        "id": "7qUET3pVeOm9"
      },
      "source": [
        "w = torch.tensor(2.0,requires_grad=True)"
      ],
      "execution_count": 2,
      "outputs": []
    },
    {
      "cell_type": "code",
      "metadata": {
        "id": "HS8k55r9eTRi"
      },
      "source": [
        "y = w**2\n",
        "z = 2*y + 5"
      ],
      "execution_count": 3,
      "outputs": []
    },
    {
      "cell_type": "code",
      "metadata": {
        "id": "vEH9c5IxebfM"
      },
      "source": [
        "z.backward()"
      ],
      "execution_count": 4,
      "outputs": []
    },
    {
      "cell_type": "code",
      "metadata": {
        "colab": {
          "base_uri": "https://localhost:8080/"
        },
        "id": "Bj23KWbBee6p",
        "outputId": "a6463dc2-8d5e-4aa9-a993-396901c4bdfe"
      },
      "source": [
        "print('수식을 w로 미분한 값 : {}'.format(w.grad))"
      ],
      "execution_count": 5,
      "outputs": [
        {
          "output_type": "stream",
          "name": "stdout",
          "text": [
            "수식을 w로 미분한 값 : 8.0\n"
          ]
        }
      ]
    }
  ]
}